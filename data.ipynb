{
 "cells": [
  {
   "cell_type": "code",
   "execution_count": 3,
   "metadata": {},
   "outputs": [],
   "source": [
    "# -*- coding: utf-8 -*-\n",
    "import pandas as pd\n",
    "\n",
    "df_unidades = pd.read_parquet(\"files/ESTABLECIMIENTO_SALUD_202501.parquet\")\n",
    "df_unidades_ssh = pd.read_parquet(\"files/ESTABLECIMIENTO_SALUD_202501_ssh.parquet\")\n",
    "\n",
    "df_unidades_merge = pd.merge(df_unidades, \n",
    "                             df_unidades_ssh[['NOMBRE DE LA UNIDAD', 'CLAVE DEL MUNICIPIO', 'CLAVE DE LA LOCALIDAD', 'CLUES']], \n",
    "                             on=['NOMBRE DE LA UNIDAD', 'CLAVE DEL MUNICIPIO', 'CLAVE DE LA LOCALIDAD'],  # Se usan varias columnas como clave\n",
    "                             how='left', \n",
    "                             suffixes=('', '_SSH'))\n",
    "cols = list(df_unidades_merge.columns)\n",
    "clues_index = cols.index('CLUES')\n",
    "cols.insert(clues_index + 1, cols.pop(cols.index('CLUES_SSH')))\n",
    "df_unidades_merge = df_unidades_merge[cols]\n",
    "df_unidades_merge.to_excel(\"files/ESTABLECIMIENTO_SALUD_202501_merge.xlsx\", index=False)\n",
    "df_unidades_ssh.to_excel(\"files/ESTABLECIMIENTO_SALUD_202501_ssh.xlsx\", index=False)"
   ]
  },
  {
   "cell_type": "code",
   "execution_count": 1,
   "metadata": {},
   "outputs": [],
   "source": [
    "\n",
    "import pandas as pd\n",
    "# Leer el archivo Excel\n",
    "df_horarios = pd.read_excel(\"files/ESTABLECIMIENTO_SALUD_202501.xlsx\", sheet_name=\"HORARIOS_202501\")\n",
    "# Seleccionar las columnas necesarias\n",
    "df_horarios = df_horarios[['CLUES', 'HORA INICIO', 'HORA FIN']]\n",
    "\n",
    "# Eliminar filas con valores nulos en 'HORA INICIO'\n",
    "df_horarios.dropna(subset=['HORA INICIO'], inplace=True)\n",
    "\n",
    "# Concatenar los valores de 'HORA INICIO' y 'HORA FIN'\n",
    "df_horarios['HORARIO'] = df_horarios.apply(lambda row: f\"De {row['HORA INICIO']} a {row['HORA FIN']}\", axis=1)\n",
    "\n",
    "# Guardar el dataframe resultante en un archivo Parquet\n",
    "df_horarios.to_parquet(\"files/ESTABLECIMIENTO_SALUD_202501_horarios.parquet\")\n",
    "\n",
    "\n"
   ]
  },
  {
   "cell_type": "code",
   "execution_count": 4,
   "metadata": {},
   "outputs": [],
   "source": [
    "\n",
    "municipios = df_unidades_merge['MUNICIPIO'].unique()\n",
    "df_municipios = pd.DataFrame(municipios, columns=['nombre_municipio'])\n",
    "df_municipios['id_municipio'] = range(1, len(df_municipios) + 1)\n",
    "  "
   ]
  },
  {
   "cell_type": "code",
   "execution_count": 5,
   "metadata": {},
   "outputs": [],
   "source": [
    "filtered_df = df_unidades_merge[df_unidades_merge['MUNICIPIO'] == 'ACATLAN']\n",
    "filtered_df = filtered_df[['CLUES_SSH', 'JURISDICCION', 'NOMBRE DE LA UNIDAD', 'NIVEL ATENCION']]"
   ]
  },
  {
   "cell_type": "markdown",
   "metadata": {},
   "source": [
    "Agrupacion de poblacion por municipio \n"
   ]
  },
  {
   "cell_type": "code",
   "execution_count": 6,
   "metadata": {},
   "outputs": [],
   "source": [
    "df_poblacion_mpios_total = pd.read_excel('files/Reporte Población.xlsx', skiprows=1)\n",
    "columnas_borrar = ['Clave Jurisdicción Unidad', 'Nombre Jurisdicción Unidad', 'Clave Jurisdicción Loc.', 'ageb',\n",
    "                   'Clave Municipio Unidad','CLUES','Clave Localidad Unidad','Nombre Localidad Unidad',\n",
    "                   'Nombre Unidad','Nombre Jurisdicción Loc','Clave Municipio Loc','Nombre Municipio Loc','Clave Localidad','Nombre Localidad']\n",
    "df_poblacion_mpios_total.drop(columnas_borrar, axis=1, inplace=True)\n",
    "df_poblacion_mpios_total = df_poblacion_mpios_total.groupby(['Nombre Municipio Unidad']).sum().reset_index()\n"
   ]
  },
  {
   "cell_type": "markdown",
   "metadata": {},
   "source": [
    "Piramide poblacional Municipal Plotly"
   ]
  },
  {
   "cell_type": "code",
   "execution_count": null,
   "metadata": {},
   "outputs": [
    {
     "data": {
      "application/vnd.plotly.v1+json": {
       "config": {
        "plotlyServerURL": "https://plot.ly"
       },
       "data": [
        {
         "hovertemplate": "%{y}: %{text}<extra></extra>",
         "marker": {
          "color": "blue"
         },
         "name": "Hombres",
         "orientation": "h",
         "text": [
          "4536",
          "4680",
          "5215",
          "5290",
          "6587",
          "6537",
          "5907",
          "4827",
          "4005",
          "3798",
          "3747",
          "3055",
          "2070",
          "1202",
          "698",
          "431",
          "242",
          "241",
          "0"
         ],
         "type": "bar",
         "x": [
          -4536,
          -4680,
          -5215,
          -5290,
          -6587,
          -6537,
          -5907,
          -4827,
          -4005,
          -3798,
          -3747,
          -3055,
          -2070,
          -1202,
          -698,
          -431,
          -242,
          -241,
          0
         ],
         "y": [
          "0-4 años",
          "5-9 años",
          "10-14 años",
          "15-19 años",
          "20-24 años",
          "25-29 años",
          "30-34 años",
          "35-39 años",
          "40-44 años",
          "45-49 años",
          "50-54 años",
          "55-59 años",
          "60-64 años",
          "65-69 años",
          "70-74 años",
          "75-79 años",
          "80-84 años",
          "85+ años",
          "indefinido"
         ]
        },
        {
         "hovertemplate": "%{y}: %{x}<extra></extra>",
         "marker": {
          "color": "pink"
         },
         "name": "Mujeres",
         "orientation": "h",
         "text": [
          "4536",
          "4680",
          "5215",
          "5290",
          "6587",
          "6537",
          "5907",
          "4827",
          "4005",
          "3798",
          "3747",
          "3055",
          "2070",
          "1202",
          "698",
          "431",
          "242",
          "241",
          "0"
         ],
         "type": "bar",
         "x": [
          4305,
          4462,
          5240,
          4986,
          6377,
          6488,
          5887,
          5318,
          4958,
          4671,
          4239,
          3163,
          2240,
          1418,
          1001,
          664,
          452,
          440,
          0
         ],
         "y": [
          "0-4 años",
          "5-9 años",
          "10-14 años",
          "15-19 años",
          "20-24 años",
          "25-29 años",
          "30-34 años",
          "35-39 años",
          "40-44 años",
          "45-49 años",
          "50-54 años",
          "55-59 años",
          "60-64 años",
          "65-69 años",
          "70-74 años",
          "75-79 años",
          "80-84 años",
          "85+ años",
          "indefinido"
         ]
        }
       ],
       "layout": {
        "bargap": 0.1,
        "bargroupgap": 0,
        "barmode": "relative",
        "template": {
         "data": {
          "bar": [
           {
            "error_x": {
             "color": "#2a3f5f"
            },
            "error_y": {
             "color": "#2a3f5f"
            },
            "marker": {
             "line": {
              "color": "#E5ECF6",
              "width": 0.5
             },
             "pattern": {
              "fillmode": "overlay",
              "size": 10,
              "solidity": 0.2
             }
            },
            "type": "bar"
           }
          ],
          "barpolar": [
           {
            "marker": {
             "line": {
              "color": "#E5ECF6",
              "width": 0.5
             },
             "pattern": {
              "fillmode": "overlay",
              "size": 10,
              "solidity": 0.2
             }
            },
            "type": "barpolar"
           }
          ],
          "carpet": [
           {
            "aaxis": {
             "endlinecolor": "#2a3f5f",
             "gridcolor": "white",
             "linecolor": "white",
             "minorgridcolor": "white",
             "startlinecolor": "#2a3f5f"
            },
            "baxis": {
             "endlinecolor": "#2a3f5f",
             "gridcolor": "white",
             "linecolor": "white",
             "minorgridcolor": "white",
             "startlinecolor": "#2a3f5f"
            },
            "type": "carpet"
           }
          ],
          "choropleth": [
           {
            "colorbar": {
             "outlinewidth": 0,
             "ticks": ""
            },
            "type": "choropleth"
           }
          ],
          "contour": [
           {
            "colorbar": {
             "outlinewidth": 0,
             "ticks": ""
            },
            "colorscale": [
             [
              0,
              "#0d0887"
             ],
             [
              0.1111111111111111,
              "#46039f"
             ],
             [
              0.2222222222222222,
              "#7201a8"
             ],
             [
              0.3333333333333333,
              "#9c179e"
             ],
             [
              0.4444444444444444,
              "#bd3786"
             ],
             [
              0.5555555555555556,
              "#d8576b"
             ],
             [
              0.6666666666666666,
              "#ed7953"
             ],
             [
              0.7777777777777778,
              "#fb9f3a"
             ],
             [
              0.8888888888888888,
              "#fdca26"
             ],
             [
              1,
              "#f0f921"
             ]
            ],
            "type": "contour"
           }
          ],
          "contourcarpet": [
           {
            "colorbar": {
             "outlinewidth": 0,
             "ticks": ""
            },
            "type": "contourcarpet"
           }
          ],
          "heatmap": [
           {
            "colorbar": {
             "outlinewidth": 0,
             "ticks": ""
            },
            "colorscale": [
             [
              0,
              "#0d0887"
             ],
             [
              0.1111111111111111,
              "#46039f"
             ],
             [
              0.2222222222222222,
              "#7201a8"
             ],
             [
              0.3333333333333333,
              "#9c179e"
             ],
             [
              0.4444444444444444,
              "#bd3786"
             ],
             [
              0.5555555555555556,
              "#d8576b"
             ],
             [
              0.6666666666666666,
              "#ed7953"
             ],
             [
              0.7777777777777778,
              "#fb9f3a"
             ],
             [
              0.8888888888888888,
              "#fdca26"
             ],
             [
              1,
              "#f0f921"
             ]
            ],
            "type": "heatmap"
           }
          ],
          "histogram": [
           {
            "marker": {
             "pattern": {
              "fillmode": "overlay",
              "size": 10,
              "solidity": 0.2
             }
            },
            "type": "histogram"
           }
          ],
          "histogram2d": [
           {
            "colorbar": {
             "outlinewidth": 0,
             "ticks": ""
            },
            "colorscale": [
             [
              0,
              "#0d0887"
             ],
             [
              0.1111111111111111,
              "#46039f"
             ],
             [
              0.2222222222222222,
              "#7201a8"
             ],
             [
              0.3333333333333333,
              "#9c179e"
             ],
             [
              0.4444444444444444,
              "#bd3786"
             ],
             [
              0.5555555555555556,
              "#d8576b"
             ],
             [
              0.6666666666666666,
              "#ed7953"
             ],
             [
              0.7777777777777778,
              "#fb9f3a"
             ],
             [
              0.8888888888888888,
              "#fdca26"
             ],
             [
              1,
              "#f0f921"
             ]
            ],
            "type": "histogram2d"
           }
          ],
          "histogram2dcontour": [
           {
            "colorbar": {
             "outlinewidth": 0,
             "ticks": ""
            },
            "colorscale": [
             [
              0,
              "#0d0887"
             ],
             [
              0.1111111111111111,
              "#46039f"
             ],
             [
              0.2222222222222222,
              "#7201a8"
             ],
             [
              0.3333333333333333,
              "#9c179e"
             ],
             [
              0.4444444444444444,
              "#bd3786"
             ],
             [
              0.5555555555555556,
              "#d8576b"
             ],
             [
              0.6666666666666666,
              "#ed7953"
             ],
             [
              0.7777777777777778,
              "#fb9f3a"
             ],
             [
              0.8888888888888888,
              "#fdca26"
             ],
             [
              1,
              "#f0f921"
             ]
            ],
            "type": "histogram2dcontour"
           }
          ],
          "mesh3d": [
           {
            "colorbar": {
             "outlinewidth": 0,
             "ticks": ""
            },
            "type": "mesh3d"
           }
          ],
          "parcoords": [
           {
            "line": {
             "colorbar": {
              "outlinewidth": 0,
              "ticks": ""
             }
            },
            "type": "parcoords"
           }
          ],
          "pie": [
           {
            "automargin": true,
            "type": "pie"
           }
          ],
          "scatter": [
           {
            "fillpattern": {
             "fillmode": "overlay",
             "size": 10,
             "solidity": 0.2
            },
            "type": "scatter"
           }
          ],
          "scatter3d": [
           {
            "line": {
             "colorbar": {
              "outlinewidth": 0,
              "ticks": ""
             }
            },
            "marker": {
             "colorbar": {
              "outlinewidth": 0,
              "ticks": ""
             }
            },
            "type": "scatter3d"
           }
          ],
          "scattercarpet": [
           {
            "marker": {
             "colorbar": {
              "outlinewidth": 0,
              "ticks": ""
             }
            },
            "type": "scattercarpet"
           }
          ],
          "scattergeo": [
           {
            "marker": {
             "colorbar": {
              "outlinewidth": 0,
              "ticks": ""
             }
            },
            "type": "scattergeo"
           }
          ],
          "scattergl": [
           {
            "marker": {
             "colorbar": {
              "outlinewidth": 0,
              "ticks": ""
             }
            },
            "type": "scattergl"
           }
          ],
          "scattermap": [
           {
            "marker": {
             "colorbar": {
              "outlinewidth": 0,
              "ticks": ""
             }
            },
            "type": "scattermap"
           }
          ],
          "scattermapbox": [
           {
            "marker": {
             "colorbar": {
              "outlinewidth": 0,
              "ticks": ""
             }
            },
            "type": "scattermapbox"
           }
          ],
          "scatterpolar": [
           {
            "marker": {
             "colorbar": {
              "outlinewidth": 0,
              "ticks": ""
             }
            },
            "type": "scatterpolar"
           }
          ],
          "scatterpolargl": [
           {
            "marker": {
             "colorbar": {
              "outlinewidth": 0,
              "ticks": ""
             }
            },
            "type": "scatterpolargl"
           }
          ],
          "scatterternary": [
           {
            "marker": {
             "colorbar": {
              "outlinewidth": 0,
              "ticks": ""
             }
            },
            "type": "scatterternary"
           }
          ],
          "surface": [
           {
            "colorbar": {
             "outlinewidth": 0,
             "ticks": ""
            },
            "colorscale": [
             [
              0,
              "#0d0887"
             ],
             [
              0.1111111111111111,
              "#46039f"
             ],
             [
              0.2222222222222222,
              "#7201a8"
             ],
             [
              0.3333333333333333,
              "#9c179e"
             ],
             [
              0.4444444444444444,
              "#bd3786"
             ],
             [
              0.5555555555555556,
              "#d8576b"
             ],
             [
              0.6666666666666666,
              "#ed7953"
             ],
             [
              0.7777777777777778,
              "#fb9f3a"
             ],
             [
              0.8888888888888888,
              "#fdca26"
             ],
             [
              1,
              "#f0f921"
             ]
            ],
            "type": "surface"
           }
          ],
          "table": [
           {
            "cells": {
             "fill": {
              "color": "#EBF0F8"
             },
             "line": {
              "color": "white"
             }
            },
            "header": {
             "fill": {
              "color": "#C8D4E3"
             },
             "line": {
              "color": "white"
             }
            },
            "type": "table"
           }
          ]
         },
         "layout": {
          "annotationdefaults": {
           "arrowcolor": "#2a3f5f",
           "arrowhead": 0,
           "arrowwidth": 1
          },
          "autotypenumbers": "strict",
          "coloraxis": {
           "colorbar": {
            "outlinewidth": 0,
            "ticks": ""
           }
          },
          "colorscale": {
           "diverging": [
            [
             0,
             "#8e0152"
            ],
            [
             0.1,
             "#c51b7d"
            ],
            [
             0.2,
             "#de77ae"
            ],
            [
             0.3,
             "#f1b6da"
            ],
            [
             0.4,
             "#fde0ef"
            ],
            [
             0.5,
             "#f7f7f7"
            ],
            [
             0.6,
             "#e6f5d0"
            ],
            [
             0.7,
             "#b8e186"
            ],
            [
             0.8,
             "#7fbc41"
            ],
            [
             0.9,
             "#4d9221"
            ],
            [
             1,
             "#276419"
            ]
           ],
           "sequential": [
            [
             0,
             "#0d0887"
            ],
            [
             0.1111111111111111,
             "#46039f"
            ],
            [
             0.2222222222222222,
             "#7201a8"
            ],
            [
             0.3333333333333333,
             "#9c179e"
            ],
            [
             0.4444444444444444,
             "#bd3786"
            ],
            [
             0.5555555555555556,
             "#d8576b"
            ],
            [
             0.6666666666666666,
             "#ed7953"
            ],
            [
             0.7777777777777778,
             "#fb9f3a"
            ],
            [
             0.8888888888888888,
             "#fdca26"
            ],
            [
             1,
             "#f0f921"
            ]
           ],
           "sequentialminus": [
            [
             0,
             "#0d0887"
            ],
            [
             0.1111111111111111,
             "#46039f"
            ],
            [
             0.2222222222222222,
             "#7201a8"
            ],
            [
             0.3333333333333333,
             "#9c179e"
            ],
            [
             0.4444444444444444,
             "#bd3786"
            ],
            [
             0.5555555555555556,
             "#d8576b"
            ],
            [
             0.6666666666666666,
             "#ed7953"
            ],
            [
             0.7777777777777778,
             "#fb9f3a"
            ],
            [
             0.8888888888888888,
             "#fdca26"
            ],
            [
             1,
             "#f0f921"
            ]
           ]
          },
          "colorway": [
           "#636efa",
           "#EF553B",
           "#00cc96",
           "#ab63fa",
           "#FFA15A",
           "#19d3f3",
           "#FF6692",
           "#B6E880",
           "#FF97FF",
           "#FECB52"
          ],
          "font": {
           "color": "#2a3f5f"
          },
          "geo": {
           "bgcolor": "white",
           "lakecolor": "white",
           "landcolor": "#E5ECF6",
           "showlakes": true,
           "showland": true,
           "subunitcolor": "white"
          },
          "hoverlabel": {
           "align": "left"
          },
          "hovermode": "closest",
          "mapbox": {
           "style": "light"
          },
          "paper_bgcolor": "white",
          "plot_bgcolor": "#E5ECF6",
          "polar": {
           "angularaxis": {
            "gridcolor": "white",
            "linecolor": "white",
            "ticks": ""
           },
           "bgcolor": "#E5ECF6",
           "radialaxis": {
            "gridcolor": "white",
            "linecolor": "white",
            "ticks": ""
           }
          },
          "scene": {
           "xaxis": {
            "backgroundcolor": "#E5ECF6",
            "gridcolor": "white",
            "gridwidth": 2,
            "linecolor": "white",
            "showbackground": true,
            "ticks": "",
            "zerolinecolor": "white"
           },
           "yaxis": {
            "backgroundcolor": "#E5ECF6",
            "gridcolor": "white",
            "gridwidth": 2,
            "linecolor": "white",
            "showbackground": true,
            "ticks": "",
            "zerolinecolor": "white"
           },
           "zaxis": {
            "backgroundcolor": "#E5ECF6",
            "gridcolor": "white",
            "gridwidth": 2,
            "linecolor": "white",
            "showbackground": true,
            "ticks": "",
            "zerolinecolor": "white"
           }
          },
          "shapedefaults": {
           "line": {
            "color": "#2a3f5f"
           }
          },
          "ternary": {
           "aaxis": {
            "gridcolor": "white",
            "linecolor": "white",
            "ticks": ""
           },
           "baxis": {
            "gridcolor": "white",
            "linecolor": "white",
            "ticks": ""
           },
           "bgcolor": "#E5ECF6",
           "caxis": {
            "gridcolor": "white",
            "linecolor": "white",
            "ticks": ""
           }
          },
          "title": {
           "x": 0.05
          },
          "xaxis": {
           "automargin": true,
           "gridcolor": "white",
           "linecolor": "white",
           "ticks": "",
           "title": {
            "standoff": 15
           },
           "zerolinecolor": "white",
           "zerolinewidth": 2
          },
          "yaxis": {
           "automargin": true,
           "gridcolor": "white",
           "linecolor": "white",
           "ticks": "",
           "title": {
            "standoff": 15
           },
           "zerolinecolor": "white",
           "zerolinewidth": 2
          }
         }
        },
        "title": {
         "text": "Pirámide Poblacional de Pachuca de Soto"
        },
        "xaxis": {
         "ticktext": [
          "6587",
          "3293",
          "0",
          "3293",
          "6587"
         ],
         "tickvals": [
          -6587,
          -3293.5,
          0,
          3293.5,
          6587
         ],
         "title": {
          "text": "Población"
         }
        },
        "yaxis": {
         "title": {
          "text": "Edad"
         }
        }
       }
      }
     },
     "metadata": {},
     "output_type": "display_data"
    }
   ],
   "source": [
    "\n",
    "import pandas as pd\n",
    "import plotly.graph_objects as go\n",
    "municipio = \"Pachuca de Soto\" \n",
    "df_municipio = df_poblacion_mpios_total[df_poblacion_mpios_total['Nombre Localidad Unidad'] == municipio]\n",
    "\n",
    "quinquenios = ['0-4 años', '5-9 años', '10-14 años', '15-19 años', '20-24 años', '25-29 años', '30-34 años', \n",
    "               '35-39 años', '40-44 años', '45-49 años', '50-54 años', '55-59 años', '60-64 años', '65-69 años', \n",
    "               '70-74 años', '75-79 años', '80-84 años', '85+ años', 'indefinido']\n",
    "\n",
    "poblacion_masculina = [-df_municipio[f'h{q}'].values[0] for q in quinquenios]  # Valores negativos para la gráfica\n",
    "poblacion_femenina = [df_municipio[f'm{q}'].values[0] for q in quinquenios]\n",
    "\n",
    "fig = go.Figure()\n",
    "\n",
    "fig.add_trace(go.Bar(\n",
    "    y=quinquenios,\n",
    "    x=poblacion_masculina,\n",
    "    name='Hombres',\n",
    "    orientation='h',\n",
    "    marker=dict(color='blue'),\n",
    "    hovertemplate='%{y}: %{text}<extra></extra>',\n",
    "    text=[abs(val) for val in poblacion_masculina]\n",
    "))\n",
    "\n",
    "fig.add_trace(go.Bar(\n",
    "    y=quinquenios,\n",
    "    x=poblacion_femenina,\n",
    "    name='Mujeres',\n",
    "    orientation='h',\n",
    "    marker=dict(color='pink'),\n",
    "    hovertemplate='%{y}: %{x}<extra></extra>',\n",
    "    text=[abs(val) for val in poblacion_masculina]\n",
    "))\n",
    "\n",
    "max_val = max(max(poblacion_femenina), abs(min(poblacion_masculina)))\n",
    "tickvals = [-max_val, -max_val/2, 0, max_val/2, max_val]\n",
    "ticktext = [str(int(abs(val))) for val in tickvals]\n",
    "\n",
    "fig.update_layout(\n",
    "    title=f'Pirámide Poblacional de {municipio}',\n",
    "    xaxis_title='Población',\n",
    "    yaxis_title='Edad',\n",
    "    barmode='relative',\n",
    "    bargap=0.1,\n",
    "    bargroupgap=0,\n",
    "    xaxis=dict(\n",
    "        tickvals=tickvals,\n",
    "        ticktext=ticktext\n",
    "    )\n",
    ")\n",
    "fig.show()"
   ]
  },
  {
   "cell_type": "markdown",
   "metadata": {},
   "source": [
    "Agrupacion de poblacion por unidad de salud "
   ]
  },
  {
   "cell_type": "code",
   "execution_count": null,
   "metadata": {},
   "outputs": [],
   "source": [
    "df_poblacion = pd.read_excel('files/Reporte Población.xlsx', skiprows=1)\n",
    "columnas_borrar = ['Clave Jurisdicción Unidad', 'Nombre Jurisdicción Unidad', 'Clave Jurisdicción Loc.', 'ageb',\n",
    "                   'Clave Municipio Unidad','Nombre Municipio Unidad','Clave Localidad Unidad','Nombre Localidad Unidad',\n",
    "                   'Nombre Unidad','Nombre Jurisdicción Loc','Clave Municipio Loc','Nombre Municipio Loc','Clave Localidad','Nombre Localidad']\n",
    "df_poblacion.drop(columnas_borrar, axis=1, inplace=True)\n",
    "\n",
    "df_poblacion_ssh = df_poblacion[~df_poblacion['CLUES'].str.startswith('HGIMO')]#se omiten las clues que inician con HGIMO\n",
    "df_poblacion_ssh_group = df_poblacion_ssh.groupby('CLUES').sum().reset_index()"
   ]
  },
  {
   "cell_type": "markdown",
   "metadata": {},
   "source": [
    "Piramide poblacional por CLUES"
   ]
  },
  {
   "cell_type": "code",
   "execution_count": null,
   "metadata": {},
   "outputs": [
    {
     "data": {
      "application/vnd.plotly.v1+json": {
       "config": {
        "plotlyServerURL": "https://plot.ly"
       },
       "data": [
        {
         "hovertemplate": "%{y}: %{text}<extra></extra>",
         "marker": {
          "color": "blue"
         },
         "name": "Hombres",
         "orientation": "h",
         "text": [
          "225",
          "199",
          "254",
          "181",
          "196",
          "228",
          "220",
          "164",
          "149",
          "180",
          "166",
          "163",
          "117",
          "91",
          "43",
          "44",
          "32",
          "26",
          "0"
         ],
         "type": "bar",
         "x": [
          -225,
          -199,
          -254,
          -181,
          -196,
          -228,
          -220,
          -164,
          -149,
          -180,
          -166,
          -163,
          -117,
          -91,
          -43,
          -44,
          -32,
          -26,
          0
         ],
         "y": [
          "0-4 años",
          "5-9 años",
          "10-14 años",
          "15-19 años",
          "20-24 años",
          "25-29 años",
          "30-34 años",
          "35-39 años",
          "40-44 años",
          "45-49 años",
          "50-54 años",
          "55-59 años",
          "60-64 años",
          "65-69 años",
          "70-74 años",
          "75-79 años",
          "80-84 años",
          "85+ años",
          "indefinido"
         ]
        },
        {
         "hovertemplate": "%{y}: %{x}<extra></extra>",
         "marker": {
          "color": "pink"
         },
         "name": "Mujeres",
         "orientation": "h",
         "text": [
          "225",
          "199",
          "254",
          "181",
          "196",
          "228",
          "220",
          "164",
          "149",
          "180",
          "166",
          "163",
          "117",
          "91",
          "43",
          "44",
          "32",
          "26",
          "0"
         ],
         "type": "bar",
         "x": [
          166,
          224,
          244,
          225,
          252,
          258,
          220,
          211,
          210,
          220,
          194,
          160,
          113,
          119,
          77,
          55,
          38,
          54,
          0
         ],
         "y": [
          "0-4 años",
          "5-9 años",
          "10-14 años",
          "15-19 años",
          "20-24 años",
          "25-29 años",
          "30-34 años",
          "35-39 años",
          "40-44 años",
          "45-49 años",
          "50-54 años",
          "55-59 años",
          "60-64 años",
          "65-69 años",
          "70-74 años",
          "75-79 años",
          "80-84 años",
          "85+ años",
          "indefinido"
         ]
        }
       ],
       "layout": {
        "bargap": 0.1,
        "bargroupgap": 0,
        "barmode": "relative",
        "template": {
         "data": {
          "bar": [
           {
            "error_x": {
             "color": "#2a3f5f"
            },
            "error_y": {
             "color": "#2a3f5f"
            },
            "marker": {
             "line": {
              "color": "#E5ECF6",
              "width": 0.5
             },
             "pattern": {
              "fillmode": "overlay",
              "size": 10,
              "solidity": 0.2
             }
            },
            "type": "bar"
           }
          ],
          "barpolar": [
           {
            "marker": {
             "line": {
              "color": "#E5ECF6",
              "width": 0.5
             },
             "pattern": {
              "fillmode": "overlay",
              "size": 10,
              "solidity": 0.2
             }
            },
            "type": "barpolar"
           }
          ],
          "carpet": [
           {
            "aaxis": {
             "endlinecolor": "#2a3f5f",
             "gridcolor": "white",
             "linecolor": "white",
             "minorgridcolor": "white",
             "startlinecolor": "#2a3f5f"
            },
            "baxis": {
             "endlinecolor": "#2a3f5f",
             "gridcolor": "white",
             "linecolor": "white",
             "minorgridcolor": "white",
             "startlinecolor": "#2a3f5f"
            },
            "type": "carpet"
           }
          ],
          "choropleth": [
           {
            "colorbar": {
             "outlinewidth": 0,
             "ticks": ""
            },
            "type": "choropleth"
           }
          ],
          "contour": [
           {
            "colorbar": {
             "outlinewidth": 0,
             "ticks": ""
            },
            "colorscale": [
             [
              0,
              "#0d0887"
             ],
             [
              0.1111111111111111,
              "#46039f"
             ],
             [
              0.2222222222222222,
              "#7201a8"
             ],
             [
              0.3333333333333333,
              "#9c179e"
             ],
             [
              0.4444444444444444,
              "#bd3786"
             ],
             [
              0.5555555555555556,
              "#d8576b"
             ],
             [
              0.6666666666666666,
              "#ed7953"
             ],
             [
              0.7777777777777778,
              "#fb9f3a"
             ],
             [
              0.8888888888888888,
              "#fdca26"
             ],
             [
              1,
              "#f0f921"
             ]
            ],
            "type": "contour"
           }
          ],
          "contourcarpet": [
           {
            "colorbar": {
             "outlinewidth": 0,
             "ticks": ""
            },
            "type": "contourcarpet"
           }
          ],
          "heatmap": [
           {
            "colorbar": {
             "outlinewidth": 0,
             "ticks": ""
            },
            "colorscale": [
             [
              0,
              "#0d0887"
             ],
             [
              0.1111111111111111,
              "#46039f"
             ],
             [
              0.2222222222222222,
              "#7201a8"
             ],
             [
              0.3333333333333333,
              "#9c179e"
             ],
             [
              0.4444444444444444,
              "#bd3786"
             ],
             [
              0.5555555555555556,
              "#d8576b"
             ],
             [
              0.6666666666666666,
              "#ed7953"
             ],
             [
              0.7777777777777778,
              "#fb9f3a"
             ],
             [
              0.8888888888888888,
              "#fdca26"
             ],
             [
              1,
              "#f0f921"
             ]
            ],
            "type": "heatmap"
           }
          ],
          "histogram": [
           {
            "marker": {
             "pattern": {
              "fillmode": "overlay",
              "size": 10,
              "solidity": 0.2
             }
            },
            "type": "histogram"
           }
          ],
          "histogram2d": [
           {
            "colorbar": {
             "outlinewidth": 0,
             "ticks": ""
            },
            "colorscale": [
             [
              0,
              "#0d0887"
             ],
             [
              0.1111111111111111,
              "#46039f"
             ],
             [
              0.2222222222222222,
              "#7201a8"
             ],
             [
              0.3333333333333333,
              "#9c179e"
             ],
             [
              0.4444444444444444,
              "#bd3786"
             ],
             [
              0.5555555555555556,
              "#d8576b"
             ],
             [
              0.6666666666666666,
              "#ed7953"
             ],
             [
              0.7777777777777778,
              "#fb9f3a"
             ],
             [
              0.8888888888888888,
              "#fdca26"
             ],
             [
              1,
              "#f0f921"
             ]
            ],
            "type": "histogram2d"
           }
          ],
          "histogram2dcontour": [
           {
            "colorbar": {
             "outlinewidth": 0,
             "ticks": ""
            },
            "colorscale": [
             [
              0,
              "#0d0887"
             ],
             [
              0.1111111111111111,
              "#46039f"
             ],
             [
              0.2222222222222222,
              "#7201a8"
             ],
             [
              0.3333333333333333,
              "#9c179e"
             ],
             [
              0.4444444444444444,
              "#bd3786"
             ],
             [
              0.5555555555555556,
              "#d8576b"
             ],
             [
              0.6666666666666666,
              "#ed7953"
             ],
             [
              0.7777777777777778,
              "#fb9f3a"
             ],
             [
              0.8888888888888888,
              "#fdca26"
             ],
             [
              1,
              "#f0f921"
             ]
            ],
            "type": "histogram2dcontour"
           }
          ],
          "mesh3d": [
           {
            "colorbar": {
             "outlinewidth": 0,
             "ticks": ""
            },
            "type": "mesh3d"
           }
          ],
          "parcoords": [
           {
            "line": {
             "colorbar": {
              "outlinewidth": 0,
              "ticks": ""
             }
            },
            "type": "parcoords"
           }
          ],
          "pie": [
           {
            "automargin": true,
            "type": "pie"
           }
          ],
          "scatter": [
           {
            "fillpattern": {
             "fillmode": "overlay",
             "size": 10,
             "solidity": 0.2
            },
            "type": "scatter"
           }
          ],
          "scatter3d": [
           {
            "line": {
             "colorbar": {
              "outlinewidth": 0,
              "ticks": ""
             }
            },
            "marker": {
             "colorbar": {
              "outlinewidth": 0,
              "ticks": ""
             }
            },
            "type": "scatter3d"
           }
          ],
          "scattercarpet": [
           {
            "marker": {
             "colorbar": {
              "outlinewidth": 0,
              "ticks": ""
             }
            },
            "type": "scattercarpet"
           }
          ],
          "scattergeo": [
           {
            "marker": {
             "colorbar": {
              "outlinewidth": 0,
              "ticks": ""
             }
            },
            "type": "scattergeo"
           }
          ],
          "scattergl": [
           {
            "marker": {
             "colorbar": {
              "outlinewidth": 0,
              "ticks": ""
             }
            },
            "type": "scattergl"
           }
          ],
          "scattermap": [
           {
            "marker": {
             "colorbar": {
              "outlinewidth": 0,
              "ticks": ""
             }
            },
            "type": "scattermap"
           }
          ],
          "scattermapbox": [
           {
            "marker": {
             "colorbar": {
              "outlinewidth": 0,
              "ticks": ""
             }
            },
            "type": "scattermapbox"
           }
          ],
          "scatterpolar": [
           {
            "marker": {
             "colorbar": {
              "outlinewidth": 0,
              "ticks": ""
             }
            },
            "type": "scatterpolar"
           }
          ],
          "scatterpolargl": [
           {
            "marker": {
             "colorbar": {
              "outlinewidth": 0,
              "ticks": ""
             }
            },
            "type": "scatterpolargl"
           }
          ],
          "scatterternary": [
           {
            "marker": {
             "colorbar": {
              "outlinewidth": 0,
              "ticks": ""
             }
            },
            "type": "scatterternary"
           }
          ],
          "surface": [
           {
            "colorbar": {
             "outlinewidth": 0,
             "ticks": ""
            },
            "colorscale": [
             [
              0,
              "#0d0887"
             ],
             [
              0.1111111111111111,
              "#46039f"
             ],
             [
              0.2222222222222222,
              "#7201a8"
             ],
             [
              0.3333333333333333,
              "#9c179e"
             ],
             [
              0.4444444444444444,
              "#bd3786"
             ],
             [
              0.5555555555555556,
              "#d8576b"
             ],
             [
              0.6666666666666666,
              "#ed7953"
             ],
             [
              0.7777777777777778,
              "#fb9f3a"
             ],
             [
              0.8888888888888888,
              "#fdca26"
             ],
             [
              1,
              "#f0f921"
             ]
            ],
            "type": "surface"
           }
          ],
          "table": [
           {
            "cells": {
             "fill": {
              "color": "#EBF0F8"
             },
             "line": {
              "color": "white"
             }
            },
            "header": {
             "fill": {
              "color": "#C8D4E3"
             },
             "line": {
              "color": "white"
             }
            },
            "type": "table"
           }
          ]
         },
         "layout": {
          "annotationdefaults": {
           "arrowcolor": "#2a3f5f",
           "arrowhead": 0,
           "arrowwidth": 1
          },
          "autotypenumbers": "strict",
          "coloraxis": {
           "colorbar": {
            "outlinewidth": 0,
            "ticks": ""
           }
          },
          "colorscale": {
           "diverging": [
            [
             0,
             "#8e0152"
            ],
            [
             0.1,
             "#c51b7d"
            ],
            [
             0.2,
             "#de77ae"
            ],
            [
             0.3,
             "#f1b6da"
            ],
            [
             0.4,
             "#fde0ef"
            ],
            [
             0.5,
             "#f7f7f7"
            ],
            [
             0.6,
             "#e6f5d0"
            ],
            [
             0.7,
             "#b8e186"
            ],
            [
             0.8,
             "#7fbc41"
            ],
            [
             0.9,
             "#4d9221"
            ],
            [
             1,
             "#276419"
            ]
           ],
           "sequential": [
            [
             0,
             "#0d0887"
            ],
            [
             0.1111111111111111,
             "#46039f"
            ],
            [
             0.2222222222222222,
             "#7201a8"
            ],
            [
             0.3333333333333333,
             "#9c179e"
            ],
            [
             0.4444444444444444,
             "#bd3786"
            ],
            [
             0.5555555555555556,
             "#d8576b"
            ],
            [
             0.6666666666666666,
             "#ed7953"
            ],
            [
             0.7777777777777778,
             "#fb9f3a"
            ],
            [
             0.8888888888888888,
             "#fdca26"
            ],
            [
             1,
             "#f0f921"
            ]
           ],
           "sequentialminus": [
            [
             0,
             "#0d0887"
            ],
            [
             0.1111111111111111,
             "#46039f"
            ],
            [
             0.2222222222222222,
             "#7201a8"
            ],
            [
             0.3333333333333333,
             "#9c179e"
            ],
            [
             0.4444444444444444,
             "#bd3786"
            ],
            [
             0.5555555555555556,
             "#d8576b"
            ],
            [
             0.6666666666666666,
             "#ed7953"
            ],
            [
             0.7777777777777778,
             "#fb9f3a"
            ],
            [
             0.8888888888888888,
             "#fdca26"
            ],
            [
             1,
             "#f0f921"
            ]
           ]
          },
          "colorway": [
           "#636efa",
           "#EF553B",
           "#00cc96",
           "#ab63fa",
           "#FFA15A",
           "#19d3f3",
           "#FF6692",
           "#B6E880",
           "#FF97FF",
           "#FECB52"
          ],
          "font": {
           "color": "#2a3f5f"
          },
          "geo": {
           "bgcolor": "white",
           "lakecolor": "white",
           "landcolor": "#E5ECF6",
           "showlakes": true,
           "showland": true,
           "subunitcolor": "white"
          },
          "hoverlabel": {
           "align": "left"
          },
          "hovermode": "closest",
          "mapbox": {
           "style": "light"
          },
          "paper_bgcolor": "white",
          "plot_bgcolor": "#E5ECF6",
          "polar": {
           "angularaxis": {
            "gridcolor": "white",
            "linecolor": "white",
            "ticks": ""
           },
           "bgcolor": "#E5ECF6",
           "radialaxis": {
            "gridcolor": "white",
            "linecolor": "white",
            "ticks": ""
           }
          },
          "scene": {
           "xaxis": {
            "backgroundcolor": "#E5ECF6",
            "gridcolor": "white",
            "gridwidth": 2,
            "linecolor": "white",
            "showbackground": true,
            "ticks": "",
            "zerolinecolor": "white"
           },
           "yaxis": {
            "backgroundcolor": "#E5ECF6",
            "gridcolor": "white",
            "gridwidth": 2,
            "linecolor": "white",
            "showbackground": true,
            "ticks": "",
            "zerolinecolor": "white"
           },
           "zaxis": {
            "backgroundcolor": "#E5ECF6",
            "gridcolor": "white",
            "gridwidth": 2,
            "linecolor": "white",
            "showbackground": true,
            "ticks": "",
            "zerolinecolor": "white"
           }
          },
          "shapedefaults": {
           "line": {
            "color": "#2a3f5f"
           }
          },
          "ternary": {
           "aaxis": {
            "gridcolor": "white",
            "linecolor": "white",
            "ticks": ""
           },
           "baxis": {
            "gridcolor": "white",
            "linecolor": "white",
            "ticks": ""
           },
           "bgcolor": "#E5ECF6",
           "caxis": {
            "gridcolor": "white",
            "linecolor": "white",
            "ticks": ""
           }
          },
          "title": {
           "x": 0.05
          },
          "xaxis": {
           "automargin": true,
           "gridcolor": "white",
           "linecolor": "white",
           "ticks": "",
           "title": {
            "standoff": 15
           },
           "zerolinecolor": "white",
           "zerolinewidth": 2
          },
          "yaxis": {
           "automargin": true,
           "gridcolor": "white",
           "linecolor": "white",
           "ticks": "",
           "title": {
            "standoff": 15
           },
           "zerolinecolor": "white",
           "zerolinewidth": 2
          }
         }
        },
        "title": {
         "text": "Pirámide Poblacional de HGSSA001923"
        },
        "xaxis": {
         "ticktext": [
          "258",
          "129",
          "0",
          "129",
          "258"
         ],
         "tickvals": [
          -258,
          -129,
          0,
          129,
          258
         ],
         "title": {
          "text": "Población"
         }
        },
        "yaxis": {
         "title": {
          "text": "Edad"
         }
        }
       }
      }
     },
     "metadata": {},
     "output_type": "display_data"
    }
   ],
   "source": [
    "import plotly.graph_objects as go\n",
    "clues = 'HGSSA001923'\n",
    "df_clues = df_poblacion_ssh_group[df_poblacion_ssh_group['CLUES'] == clues]\n",
    "quinquenios = ['0-4 años', '5-9 años', '10-14 años', '15-19 años', '20-24 años', '25-29 años', '30-34 años', \n",
    "               '35-39 años', '40-44 años', '45-49 años', '50-54 años', '55-59 años', '60-64 años', '65-69 años', \n",
    "               '70-74 años', '75-79 años', '80-84 años', '85+ años', 'indefinido']\n",
    "\n",
    "poblacion_masculina = [-df_clues[f'h{q}'].values[0] for q in quinquenios]  # Valores negativos para la gráfica\n",
    "poblacion_femenina = [df_clues[f'm{q}'].values[0] for q in quinquenios]\n",
    "\n",
    "fig = go.Figure()\n",
    "\n",
    "fig.add_trace(go.Bar(\n",
    "    y=quinquenios,\n",
    "    x=poblacion_masculina,\n",
    "    name='Hombres',\n",
    "    orientation='h',\n",
    "    marker=dict(color='blue'),\n",
    "    hovertemplate='%{y}: %{text}<extra></extra>',\n",
    "    text=[abs(val) for val in poblacion_masculina]\n",
    "))\n",
    "\n",
    "fig.add_trace(go.Bar(\n",
    "    y=quinquenios,\n",
    "    x=poblacion_femenina,\n",
    "    name='Mujeres',\n",
    "    orientation='h',\n",
    "    marker=dict(color='pink'),\n",
    "    hovertemplate='%{y}: %{x}<extra></extra>',\n",
    "    text=[abs(val) for val in poblacion_masculina]\n",
    "))\n",
    "\n",
    "max_val = max(max(poblacion_femenina), abs(min(poblacion_masculina)))\n",
    "tickvals = [-max_val, -max_val/2, 0, max_val/2, max_val]\n",
    "ticktext = [str(int(abs(val))) for val in tickvals]\n",
    "\n",
    "fig.update_layout(\n",
    "    title=f'Pirámide Poblacional de {clues}',\n",
    "    xaxis_title='Población',\n",
    "    yaxis_title='Edad',\n",
    "    barmode='relative',\n",
    "    bargap=0.1,\n",
    "    bargroupgap=0,\n",
    "    xaxis=dict(\n",
    "        tickvals=tickvals,\n",
    "        ticktext=ticktext\n",
    "    )\n",
    ")\n",
    "fig.show()"
   ]
  }
 ],
 "metadata": {
  "kernelspec": {
   "display_name": "unidad",
   "language": "python",
   "name": "python3"
  },
  "language_info": {
   "codemirror_mode": {
    "name": "ipython",
    "version": 3
   },
   "file_extension": ".py",
   "mimetype": "text/x-python",
   "name": "python",
   "nbconvert_exporter": "python",
   "pygments_lexer": "ipython3",
   "version": "3.13.2"
  }
 },
 "nbformat": 4,
 "nbformat_minor": 2
}
