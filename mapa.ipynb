{
 "cells": [
  {
   "cell_type": "code",
   "execution_count": 3,
   "metadata": {},
   "outputs": [],
   "source": [
    "import pandas as pd #type: ignore\n",
    "import geopandas as gpd #type: ignore\n",
    "import unidecode #type: ignore\n",
    "\n",
    "\n",
    "df_mpios = pd.read_csv(\"files/mapa/AGEEML_202410311056515.csv\",encoding=\"UTF-8\")\n",
    "df_mpios[\"NOM_MUN\"] = df_mpios[\"NOM_MUN\"].apply(lambda x: unidecode.unidecode(x.upper()))\n",
    "\n",
    "df_mpios_shape = gpd.read_file(\"files/mapa/muni_2018gw/muni_2018gw.shp\", encoding=\"UTF-8\")\n",
    "df_mpios_shape[\"NOM_MUN\"] = df_mpios_shape[\"NOM_MUN\"].apply(lambda x: unidecode.unidecode(x.upper()))\n"
   ]
  },
  {
   "cell_type": "code",
   "execution_count": 4,
   "metadata": {},
   "outputs": [
    {
     "name": "stderr",
     "output_type": "stream",
     "text": [
      "C:\\Users\\najer\\AppData\\Local\\Temp\\ipykernel_16376\\3024060525.py:20: UserWarning: Geometry is in a geographic CRS. Results from 'centroid' are likely incorrect. Use 'GeoSeries.to_crs()' to re-project geometries to a projected CRS before this operation.\n",
      "\n",
      "  centro = municipio_shape.geometry.centroid.iloc[0]\n"
     ]
    }
   ],
   "source": [
    "import pandas as pd\n",
    "import geopandas as gpd\n",
    "import folium\n",
    "\n",
    "# Cargar los datos de municipios\n",
    "df_mpios = pd.read_csv(\"files/mapa/AGEEML_202410311056515.csv\", encoding=\"UTF-8\")\n",
    "df_mpios[\"NOM_MUN\"] = df_mpios[\"NOM_MUN\"].apply(lambda x: unidecode.unidecode(x.upper()))\n",
    "\n",
    "df_mpios_shape = gpd.read_file(\"files/mapa/muni_2018gw/muni_2018gw.shp\", encoding=\"UTF-8\")\n",
    "df_mpios_shape = df_mpios_shape[df_mpios_shape[\"CVE_ENT\"] == '13']\n",
    "df_mpios_shape[\"NOM_MUN\"] = df_mpios_shape[\"NOM_MUN\"].apply(lambda x: unidecode.unidecode(x.upper()))\n",
    "\n",
    "\n",
    "# Función para generar el mapa de un municipio específico\n",
    "def generar_mapa(municipio):\n",
    "    # Filtrar el shapefile por el municipio seleccionado\n",
    "    municipio_shape = df_mpios_shape[df_mpios_shape[\"NOM_MUN\"] == municipio]\n",
    "\n",
    "    # Crear un mapa centrado en el municipio\n",
    "    centro = municipio_shape.geometry.centroid.iloc[0]\n",
    "    mapa = folium.Map(location=[centro.y, centro.x], zoom_start=10)\n",
    "\n",
    "    # Agregar el municipio al mapa\n",
    "    folium.GeoJson(municipio_shape).add_to(mapa)\n",
    "\n",
    "    # Mostrar el mapa\n",
    "    return mapa\n",
    "\n",
    "# Ejemplo de uso: visualizar el municipio seleccionado\n",
    "municipio_seleccionado = \"PACHUCA DE SOTO\"  # Cambia este valor según el municipio que desees ver\n",
    "mapa = generar_mapa(municipio_seleccionado)\n",
    "mapa.save(\"mapa_interactivo.html\")"
   ]
  }
 ],
 "metadata": {
  "kernelspec": {
   "display_name": "unidad",
   "language": "python",
   "name": "python3"
  },
  "language_info": {
   "codemirror_mode": {
    "name": "ipython",
    "version": 3
   },
   "file_extension": ".py",
   "mimetype": "text/x-python",
   "name": "python",
   "nbconvert_exporter": "python",
   "pygments_lexer": "ipython3",
   "version": "3.13.2"
  }
 },
 "nbformat": 4,
 "nbformat_minor": 2
}
